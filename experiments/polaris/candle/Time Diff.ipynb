{
 "cells": [
  {
   "cell_type": "code",
   "execution_count": 1,
   "id": "03f19139",
   "metadata": {},
   "outputs": [],
   "source": [
    "import pandas as pd\n",
    "import numpy as np"
   ]
  },
  {
   "cell_type": "code",
   "execution_count": 22,
   "id": "7e8682e7",
   "metadata": {},
   "outputs": [
    {
     "data": {
      "text/plain": [
       "Index(['p:activation', 'p:base_lr', 'p:batch_normalization', 'p:batch_size',\n",
       "       'p:dense_0', 'p:dense_1', 'p:dense_2', 'p:dense_feature_layers_0',\n",
       "       'p:dense_feature_layers_1', 'p:dense_feature_layers_2', 'p:dropout',\n",
       "       'p:early_stopping', 'p:early_stopping_patience', 'p:learning_rate',\n",
       "       'p:loss', 'p:optimizer', 'p:reduce_lr', 'p:reduce_lr_factor',\n",
       "       'p:reduce_lr_patience', 'p:residual', 'p:scaling', 'p:warmup_lr',\n",
       "       'objective', 'job_id', 'timestamp_submit', 'timestamp_gather',\n",
       "       'timestamp_start', 'timestamp_end'],\n",
       "      dtype='object')"
      ]
     },
     "execution_count": 22,
     "metadata": {},
     "output_type": "execute_result"
    }
   ],
   "source": [
    "path_csv = \"output/candle_combo-CBO-async-GP-UCB-cl_max-32-4-10800-42/results.csv\"\n",
    "# path_csv = \"output/candle_combo-CBO-async-RF-UCB-cl_max-32-4-10800-42/results.csv\"\n",
    "df = pd.read_csv(path_csv, index_col=0)\n",
    "df.columns"
   ]
  },
  {
   "cell_type": "code",
   "execution_count": 23,
   "id": "360e8f26",
   "metadata": {},
   "outputs": [],
   "source": [
    "duration_submit_gather = df[\"timestamp_gather\"] - df[\"timestamp_submit\"]\n",
    "duration_start_end = df[\"timestamp_end\"] - df[\"timestamp_start\"]"
   ]
  },
  {
   "cell_type": "code",
   "execution_count": 24,
   "id": "fbc8e48c",
   "metadata": {},
   "outputs": [],
   "source": [
    "df_new = pd.DataFrame({\n",
    "    \"duration_submit_gather\": duration_submit_gather,\n",
    "    \"duration_start_end\": duration_start_end\n",
    "})\n",
    "df_new[\"diff\"] = df_new[\"duration_submit_gather\"] - df_new[\"duration_start_end\"]"
   ]
  },
  {
   "cell_type": "code",
   "execution_count": 25,
   "id": "d6b7a142",
   "metadata": {
    "scrolled": false
   },
   "outputs": [
    {
     "name": "stdout",
     "output_type": "stream",
     "text": [
      "    duration_submit_gather  duration_start_end   diff\n",
      "0                   53.138              50.280  2.857\n",
      "1                   59.858              57.401  2.457\n",
      "2                   91.934              87.365  4.569\n",
      "3                  111.734             107.074  4.660\n",
      "4                  114.021             110.818  3.202\n",
      "5                  117.715             114.322  3.393\n",
      "6                  168.842             167.145  1.697\n",
      "7                  205.051             200.678  4.373\n",
      "8                  205.580             203.017  2.563\n",
      "9                  231.738             230.115  1.622\n",
      "10                 234.636             228.125  6.511\n",
      "11                 238.210             234.150  4.061\n",
      "12                 258.614             256.776  1.838\n",
      "13                 261.590             258.495  3.094\n",
      "14                   5.708               5.705  0.003\n",
      "15                 274.898             271.107  3.790\n",
      "16                 291.134             287.405  3.729\n",
      "17                 299.227             296.928  2.299\n",
      "18                   5.659               5.655  0.004\n",
      "19                 311.976             307.750  4.226\n",
      "20                 313.539             311.329  2.211\n",
      "21                 313.411             309.125  4.286\n",
      "22                 326.897             324.300  2.597\n",
      "23                 327.955             324.399  3.556\n",
      "24                 329.260             323.976  5.284\n",
      "25                 330.552             326.269  4.283\n",
      "26                 332.549             327.410  5.139\n",
      "27                 281.668             281.665  0.003\n",
      "28                 349.356             344.673  4.683\n",
      "29                 350.630             348.024  2.606\n",
      "30                 351.809             347.167  4.641\n",
      "31                 351.811             347.908  3.903\n",
      "32                 358.272             355.572  2.700\n",
      "33                 359.482             354.314  5.167\n",
      "34                   7.018               5.716  1.302\n",
      "35                 362.245             358.522  3.723\n",
      "36                   5.666               5.663  0.003\n",
      "37                 367.581             365.079  2.502\n",
      "38                 369.926             366.896  3.030\n",
      "39                 377.856             375.629  2.228\n",
      "40                 385.660             381.121  4.539\n",
      "41                 388.495             383.668  4.827\n",
      "42                 403.693             400.132  3.561\n",
      "43                 407.031             405.002  2.029\n",
      "44                 409.148             405.638  3.510\n",
      "45                 429.019             425.817  3.202\n",
      "46                 440.966             438.242  2.724\n",
      "47                 444.089             441.789  2.299\n",
      "48                 451.900             450.171  1.729\n",
      "49                 456.210             452.765  3.445\n",
      "50                 457.929             454.505  3.424\n",
      "51                 266.865             266.861  0.004\n",
      "52                 508.187             505.773  2.414\n",
      "53                 508.185             504.364  3.821\n",
      "54                 366.873             366.868  0.006\n",
      "55                 686.827             685.267  1.560\n",
      "56                 751.529             749.968  1.560\n",
      "57                 282.933             282.927  0.006\n",
      "58                 501.242             501.237  0.005\n",
      "59                 449.530             449.525  0.005\n",
      "60                 264.405             264.399  0.006\n",
      "61                2088.291            2088.285  0.006\n",
      "62                2385.581            2385.576  0.005\n",
      "63                 666.801             666.795  0.006\n",
      "64                1759.797            1759.739  0.058\n",
      "65                 512.027             512.021  0.006\n",
      "66                 313.851             313.844  0.007\n",
      "67                2489.152            2489.146  0.006\n",
      "68                 319.785             319.780  0.005\n",
      "69                3627.486            3627.481  0.005\n",
      "70                 196.650             196.644  0.005\n",
      "71                2281.771            2281.765  0.006\n",
      "72                 375.918             375.912  0.006\n",
      "73                1236.800            1236.795  0.005\n",
      "74                 853.398             853.288  0.111\n",
      "75                 274.365             274.359  0.005\n",
      "76                 685.968             685.962  0.006\n",
      "77                2067.444            2067.439  0.006\n",
      "78                 306.231             306.226  0.005\n",
      "79                 560.564             560.559  0.005\n",
      "80                 531.642             531.636  0.006\n"
     ]
    }
   ],
   "source": [
    "with pd.option_context('display.max_rows', None,\n",
    "                       'display.max_columns', None,\n",
    "                       'display.precision', 3,\n",
    "                       ):\n",
    "    print(df_new)"
   ]
  },
  {
   "cell_type": "code",
   "execution_count": 18,
   "id": "bc6a497b",
   "metadata": {},
   "outputs": [
    {
     "data": {
      "text/plain": [
       "561.7427005767771"
      ]
     },
     "execution_count": 18,
     "metadata": {},
     "output_type": "execute_result"
    }
   ],
   "source": [
    "df_new[\"diff\"].sum()"
   ]
  },
  {
   "cell_type": "code",
   "execution_count": null,
   "id": "e670fb36",
   "metadata": {},
   "outputs": [],
   "source": []
  }
 ],
 "metadata": {
  "kernelspec": {
   "display_name": "Python (dh-arm)",
   "language": "python",
   "name": "dh-arm"
  },
  "language_info": {
   "codemirror_mode": {
    "name": "ipython",
    "version": 3
   },
   "file_extension": ".py",
   "mimetype": "text/x-python",
   "name": "python",
   "nbconvert_exporter": "python",
   "pygments_lexer": "ipython3",
   "version": "3.9.13"
  }
 },
 "nbformat": 4,
 "nbformat_minor": 5
}
