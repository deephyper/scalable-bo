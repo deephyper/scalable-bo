{
 "cells": [
  {
   "cell_type": "code",
   "execution_count": 1,
   "id": "03f19139",
   "metadata": {},
   "outputs": [],
   "source": [
    "import pandas as pd\n",
    "import numpy as np"
   ]
  },
  {
   "cell_type": "code",
   "execution_count": 31,
   "id": "7e8682e7",
   "metadata": {},
   "outputs": [
    {
     "data": {
      "text/plain": [
       "Index(['p:activation', 'p:base_lr', 'p:batch_normalization', 'p:batch_size',\n",
       "       'p:dense_0', 'p:dense_1', 'p:dense_2', 'p:dense_feature_layers_0',\n",
       "       'p:dense_feature_layers_1', 'p:dense_feature_layers_2', 'p:dropout',\n",
       "       'p:early_stopping', 'p:early_stopping_patience', 'p:learning_rate',\n",
       "       'p:loss', 'p:optimizer', 'p:reduce_lr', 'p:reduce_lr_factor',\n",
       "       'p:reduce_lr_patience', 'p:residual', 'p:scaling', 'p:warmup_lr',\n",
       "       'objective', 'job_id', 'timestamp_submit', 'timestamp_gather',\n",
       "       'timestamp_start', 'timestamp_end', 'num_parameters'],\n",
       "      dtype='object')"
      ]
     },
     "execution_count": 31,
     "metadata": {},
     "output_type": "execute_result"
    }
   ],
   "source": [
    "path_csv = \"output/dhb_combo-CBO-async-GP-UCB-cl_max-128-4-10800-42/results.csv\"\n",
    "# path_csv = \"output/dhb_combo-DBOS4M-async-RF-qUCB-qUCB-128-4-10800-42/results.csv\"\n",
    "df = pd.read_csv(path_csv, index_col=0)\n",
    "df.columns"
   ]
  },
  {
   "cell_type": "code",
   "execution_count": 32,
   "id": "360e8f26",
   "metadata": {},
   "outputs": [],
   "source": [
    "duration_submit_gather = df[\"timestamp_gather\"] - df[\"timestamp_submit\"]\n",
    "duration_start_end = df[\"timestamp_end\"] - df[\"timestamp_start\"]"
   ]
  },
  {
   "cell_type": "code",
   "execution_count": 33,
   "id": "fbc8e48c",
   "metadata": {},
   "outputs": [],
   "source": [
    "df_new = pd.DataFrame({\n",
    "    \"duration_submit_gather\": duration_submit_gather,\n",
    "    \"duration_start_end\": duration_start_end\n",
    "})\n",
    "df_new[\"diff\"] = df_new[\"duration_submit_gather\"] - df_new[\"duration_start_end\"]"
   ]
  },
  {
   "cell_type": "code",
   "execution_count": 34,
   "id": "d6b7a142",
   "metadata": {
    "scrolled": true
   },
   "outputs": [
    {
     "name": "stdout",
     "output_type": "stream",
     "text": [
      "    duration_submit_gather  duration_start_end    diff\n",
      "0                   53.377              46.483   6.895\n",
      "1                   54.028              48.448   5.579\n",
      "2                   60.036              55.681   4.355\n",
      "3                   60.749              41.191  19.558\n",
      "4                   61.194              57.043   4.151\n",
      "5                   61.166              46.547  14.620\n",
      "6                   68.931              53.507  15.425\n",
      "7                   70.669              59.822  10.848\n",
      "8                   73.246              62.427  10.819\n",
      "9                   75.586              68.316   7.270\n",
      "10                 174.796             162.283  12.512\n",
      "11                 122.082              46.483  75.599\n",
      "12                 177.072             164.239  12.833\n",
      "13                 122.659              48.448  74.210\n",
      "14                 118.414              55.681  62.733\n",
      "15                 117.131              41.191  75.940\n",
      "16                 118.935              57.043  61.892\n",
      "17                 120.571              46.547  74.025\n",
      "18                 109.466              62.427  47.039\n",
      "19                 112.039              59.822  52.217\n",
      "20                 113.765              53.507  60.258\n",
      "21                 366.660             362.744   3.916\n",
      "22                 370.199             366.283   3.916\n",
      "23                 225.990             225.985   0.005\n",
      "24                 669.028             665.113   3.916\n",
      "25                 440.977             440.971   0.006\n",
      "26                 145.031             145.026   0.005\n",
      "27                1363.485            1363.480   0.005\n",
      "28                1848.781            1848.774   0.006\n",
      "29                 120.443             120.438   0.005\n",
      "30                1848.751            1848.745   0.006\n",
      "31                1841.431            1841.426   0.006\n",
      "32                 764.020             764.015   0.005\n",
      "33                 115.733             115.514   0.219\n",
      "34                 116.044             116.037   0.007\n",
      "35                 122.769             122.763   0.006\n",
      "36                1851.224            1851.218   0.005\n",
      "37                 135.856             135.851   0.005\n",
      "38                   5.872               5.866   0.006\n",
      "39                 130.186             130.181   0.005\n",
      "40                 118.530             118.524   0.006\n",
      "41                   5.505               5.500   0.005\n",
      "42                 121.410             121.404   0.006\n",
      "43                   5.610               5.604   0.005\n",
      "44                 134.494             134.488   0.006\n",
      "45                 227.430             227.424   0.006\n",
      "46                 722.550             722.545   0.005\n",
      "47                 122.477             122.470   0.006\n",
      "48                 176.627             176.621   0.006\n",
      "49                 143.232             143.227   0.005\n",
      "50                   5.490               5.485   0.005\n",
      "51                1824.767            1824.761   0.006\n",
      "52                 455.882             455.876   0.006\n",
      "53                 768.075             768.068   0.006\n",
      "54                 124.347             124.342   0.005\n",
      "55                 313.540             313.535   0.006\n",
      "56                 231.284             231.280   0.005\n",
      "57                 225.490             225.484   0.006\n",
      "58                1327.930            1327.925   0.005\n",
      "59                1722.844            1722.838   0.006\n",
      "60                 126.240             126.234   0.006\n",
      "61                 975.924             975.898   0.027\n",
      "62                 739.757             739.602   0.156\n",
      "63                 592.005             592.000   0.005\n",
      "64                 592.172             592.157   0.015\n",
      "65                 983.766             983.760   0.006\n",
      "66                 294.038             294.032   0.006\n",
      "67                 142.849             142.844   0.005\n",
      "68                 111.952             111.947   0.005\n",
      "69                 139.922             139.917   0.005\n",
      "70                 757.533             757.527   0.006\n",
      "71                1615.312            1615.160   0.152\n",
      "72                 676.845             676.839   0.007\n"
     ]
    }
   ],
   "source": [
    "with pd.option_context('display.max_rows', None,\n",
    "                       'display.max_columns', None,\n",
    "                       'display.precision', 3,\n",
    "                       ):\n",
    "    print(df_new)"
   ]
  },
  {
   "cell_type": "code",
   "execution_count": 25,
   "id": "bc6a497b",
   "metadata": {},
   "outputs": [
    {
     "data": {
      "text/plain": [
       "12.022341430187225"
      ]
     },
     "execution_count": 25,
     "metadata": {},
     "output_type": "execute_result"
    }
   ],
   "source": [
    "df_new[\"diff\"].sum()/60"
   ]
  },
  {
   "cell_type": "code",
   "execution_count": 26,
   "id": "e670fb36",
   "metadata": {},
   "outputs": [
    {
     "data": {
      "text/html": [
       "\n",
       "<div id=\"altair-viz-13069e1d34154b49a69015426c03a210\"></div>\n",
       "<script type=\"text/javascript\">\n",
       "  var VEGA_DEBUG = (typeof VEGA_DEBUG == \"undefined\") ? {} : VEGA_DEBUG;\n",
       "  (function(spec, embedOpt){\n",
       "    let outputDiv = document.currentScript.previousElementSibling;\n",
       "    if (outputDiv.id !== \"altair-viz-13069e1d34154b49a69015426c03a210\") {\n",
       "      outputDiv = document.getElementById(\"altair-viz-13069e1d34154b49a69015426c03a210\");\n",
       "    }\n",
       "    const paths = {\n",
       "      \"vega\": \"https://cdn.jsdelivr.net/npm//vega@5?noext\",\n",
       "      \"vega-lib\": \"https://cdn.jsdelivr.net/npm//vega-lib?noext\",\n",
       "      \"vega-lite\": \"https://cdn.jsdelivr.net/npm//vega-lite@4.17.0?noext\",\n",
       "      \"vega-embed\": \"https://cdn.jsdelivr.net/npm//vega-embed@6?noext\",\n",
       "    };\n",
       "\n",
       "    function maybeLoadScript(lib, version) {\n",
       "      var key = `${lib.replace(\"-\", \"\")}_version`;\n",
       "      return (VEGA_DEBUG[key] == version) ?\n",
       "        Promise.resolve(paths[lib]) :\n",
       "        new Promise(function(resolve, reject) {\n",
       "          var s = document.createElement('script');\n",
       "          document.getElementsByTagName(\"head\")[0].appendChild(s);\n",
       "          s.async = true;\n",
       "          s.onload = () => {\n",
       "            VEGA_DEBUG[key] = version;\n",
       "            return resolve(paths[lib]);\n",
       "          };\n",
       "          s.onerror = () => reject(`Error loading script: ${paths[lib]}`);\n",
       "          s.src = paths[lib];\n",
       "        });\n",
       "    }\n",
       "\n",
       "    function showError(err) {\n",
       "      outputDiv.innerHTML = `<div class=\"error\" style=\"color:red;\">${err}</div>`;\n",
       "      throw err;\n",
       "    }\n",
       "\n",
       "    function displayChart(vegaEmbed) {\n",
       "      vegaEmbed(outputDiv, spec, embedOpt)\n",
       "        .catch(err => showError(`Javascript Error: ${err.message}<br>This usually means there's a typo in your chart specification. See the javascript console for the full traceback.`));\n",
       "    }\n",
       "\n",
       "    if(typeof define === \"function\" && define.amd) {\n",
       "      requirejs.config({paths});\n",
       "      require([\"vega-embed\"], displayChart, err => showError(`Error loading script: ${err.message}`));\n",
       "    } else {\n",
       "      maybeLoadScript(\"vega\", \"5\")\n",
       "        .then(() => maybeLoadScript(\"vega-lite\", \"4.17.0\"))\n",
       "        .then(() => maybeLoadScript(\"vega-embed\", \"6\"))\n",
       "        .catch(showError)\n",
       "        .then(() => displayChart(vegaEmbed));\n",
       "    }\n",
       "  })({\"config\": {\"view\": {\"continuousWidth\": 400, \"continuousHeight\": 300}}, \"data\": {\"name\": \"data-52a5369d53a2d15b2c6f60b7a230d7fd\"}, \"mark\": \"bar\", \"encoding\": {\"x\": {\"bin\": true, \"field\": \"duration_start_end\", \"type\": \"quantitative\"}, \"y\": {\"aggregate\": \"count\", \"type\": \"quantitative\"}}, \"$schema\": \"https://vega.github.io/schema/vega-lite/v4.17.0.json\", \"datasets\": {\"data-52a5369d53a2d15b2c6f60b7a230d7fd\": [{\"duration_submit_gather\": 53.37743782997131, \"duration_start_end\": 46.482929229736335, \"diff\": 6.894508600234978}, {\"duration_submit_gather\": 54.02754092216492, \"duration_start_end\": 48.448468685150154, \"diff\": 5.579072237014763}, {\"duration_submit_gather\": 60.03581213951111, \"duration_start_end\": 55.681254863739014, \"diff\": 4.354557275772095}, {\"duration_submit_gather\": 60.74934887886047, \"duration_start_end\": 41.19130754470825, \"diff\": 19.558041334152215}, {\"duration_submit_gather\": 61.19400906562806, \"duration_start_end\": 57.04292392730713, \"diff\": 4.15108513832093}, {\"duration_submit_gather\": 61.16613149642944, \"duration_start_end\": 46.54659676551819, \"diff\": 14.619534730911255}, {\"duration_submit_gather\": 68.93133282661438, \"duration_start_end\": 53.506792068481445, \"diff\": 15.424540758132935}, {\"duration_submit_gather\": 70.66915607452393, \"duration_start_end\": 59.82160711288452, \"diff\": 10.847548961639404}, {\"duration_submit_gather\": 73.24603605270386, \"duration_start_end\": 62.42697858810425, \"diff\": 10.81905746459961}, {\"duration_submit_gather\": 75.58626222610474, \"duration_start_end\": 68.31600689888, \"diff\": 7.2702553272247314}, {\"duration_submit_gather\": 174.79579186439514, \"duration_start_end\": 162.2834095954895, \"diff\": 12.51238226890564}, {\"duration_submit_gather\": 122.08186411857605, \"duration_start_end\": 46.482929229736335, \"diff\": 75.59893488883972}, {\"duration_submit_gather\": 177.0718972682953, \"duration_start_end\": 164.23914074897766, \"diff\": 12.832756519317627}, {\"duration_submit_gather\": 122.65896534919739, \"duration_start_end\": 48.448468685150154, \"diff\": 74.21049666404724}, {\"duration_submit_gather\": 118.41379356384277, \"duration_start_end\": 55.681254863739014, \"diff\": 62.73253870010376}, {\"duration_submit_gather\": 117.13108086586001, \"duration_start_end\": 41.19130754470825, \"diff\": 75.93977332115176}, {\"duration_submit_gather\": 118.93511319160461, \"duration_start_end\": 57.04292392730713, \"diff\": 61.892189264297485}, {\"duration_submit_gather\": 120.57122993469238, \"duration_start_end\": 46.54659676551819, \"diff\": 74.0246331691742}, {\"duration_submit_gather\": 109.46623849868774, \"duration_start_end\": 62.42697858810425, \"diff\": 47.039259910583496}, {\"duration_submit_gather\": 112.03890752792358, \"duration_start_end\": 59.82160711288452, \"diff\": 52.21730041503906}, {\"duration_submit_gather\": 113.76516819000244, \"duration_start_end\": 53.506792068481445, \"diff\": 60.258376121520996}, {\"duration_submit_gather\": 366.66034531593317, \"duration_start_end\": 362.74431109428406, \"diff\": 3.916034221649113}, {\"duration_submit_gather\": 370.1994409561157, \"duration_start_end\": 366.28328943252563, \"diff\": 3.916151523590088}, {\"duration_submit_gather\": 225.99025988578796, \"duration_start_end\": 225.98510169982904, \"diff\": 0.005158185958919148}, {\"duration_submit_gather\": 669.0284397602081, \"duration_start_end\": 665.1125020980835, \"diff\": 3.915937662124634}, {\"duration_submit_gather\": 440.9773437976837, \"duration_start_end\": 440.9713599681852, \"diff\": 0.005983829498518389}, {\"duration_submit_gather\": 145.03114843368553, \"duration_start_end\": 145.02566933631897, \"diff\": 0.0054790973665603815}, {\"duration_submit_gather\": 1363.4851560592654, \"duration_start_end\": 1363.4802510738373, \"diff\": 0.004904985428083819}, {\"duration_submit_gather\": 1848.780626296997, \"duration_start_end\": 1848.774426460266, \"diff\": 0.006199836730957031}, {\"duration_submit_gather\": 120.442910432816, \"duration_start_end\": 120.43751597404435, \"diff\": 0.005394458771661448}, {\"duration_submit_gather\": 1848.7512381076813, \"duration_start_end\": 1848.7453036308289, \"diff\": 0.005934476852416992}, {\"duration_submit_gather\": 1841.431488990784, \"duration_start_end\": 1841.4257378578186, \"diff\": 0.005751132965315264}, {\"duration_submit_gather\": 764.0195422172551, \"duration_start_end\": 764.0147008895874, \"diff\": 0.0048413276676910755}, {\"duration_submit_gather\": 115.73260188102722, \"duration_start_end\": 115.51361680030823, \"diff\": 0.21898508071899414}, {\"duration_submit_gather\": 116.04360198974655, \"duration_start_end\": 116.03675746917725, \"diff\": 0.006844520569302404}, {\"duration_submit_gather\": 122.76930570602462, \"duration_start_end\": 122.76317119598389, \"diff\": 0.0061345100407379505}, {\"duration_submit_gather\": 1851.2236549854279, \"duration_start_end\": 1851.2181992530818, \"diff\": 0.005455732346035802}, {\"duration_submit_gather\": 135.85586309432983, \"duration_start_end\": 135.85095858573914, \"diff\": 0.004904508590698242}, {\"duration_submit_gather\": 5.871958255767822, \"duration_start_end\": 5.86616587638855, \"diff\": 0.005792379379272461}, {\"duration_submit_gather\": 130.18610167503357, \"duration_start_end\": 130.1809582710266, \"diff\": 0.005143404006958008}, {\"duration_submit_gather\": 118.52997350692749, \"duration_start_end\": 118.5243890285492, \"diff\": 0.0055844783782958984}, {\"duration_submit_gather\": 5.504912853241876, \"duration_start_end\": 5.499619960784912, \"diff\": 0.005292892456964182}, {\"duration_submit_gather\": 121.41027092933655, \"duration_start_end\": 121.40403652191253, \"diff\": 0.006234407424017263}, {\"duration_submit_gather\": 5.609605550765991, \"duration_start_end\": 5.6043500900268555, \"diff\": 0.005255460739135742}, {\"duration_submit_gather\": 134.4944417476654, \"duration_start_end\": 134.4883086681366, \"diff\": 0.006133079528808594}, {\"duration_submit_gather\": 227.42982840538025, \"duration_start_end\": 227.42426133155823, \"diff\": 0.005567073822021484}, {\"duration_submit_gather\": 722.5495383739471, \"duration_start_end\": 722.5447149276733, \"diff\": 0.004823446273803711}, {\"duration_submit_gather\": 122.47664213180542, \"duration_start_end\": 122.47040939330964, \"diff\": 0.006232738495782542}, {\"duration_submit_gather\": 176.626957654953, \"duration_start_end\": 176.62073040008545, \"diff\": 0.006227254867553711}, {\"duration_submit_gather\": 143.23186659812927, \"duration_start_end\": 143.22689199447632, \"diff\": 0.0049746036529541016}, {\"duration_submit_gather\": 5.490343332290649, \"duration_start_end\": 5.485321044921875, \"diff\": 0.005022287368774414}, {\"duration_submit_gather\": 1824.7667255401607, \"duration_start_end\": 1824.7606623172765, \"diff\": 0.006063222884222341}, {\"duration_submit_gather\": 455.88197660446167, \"duration_start_end\": 455.87576961517334, \"diff\": 0.006206989288330078}, {\"duration_submit_gather\": 768.0746693611145, \"duration_start_end\": 768.0682718753815, \"diff\": 0.0063974857330322266}, {\"duration_submit_gather\": 124.34732103347778, \"duration_start_end\": 124.342276096344, \"diff\": 0.0050449371337890625}, {\"duration_submit_gather\": 313.54036235809326, \"duration_start_end\": 313.53456568717957, \"diff\": 0.005796670913696289}, {\"duration_submit_gather\": 231.28444623947144, \"duration_start_end\": 231.2796230316162, \"diff\": 0.004823207855224609}, {\"duration_submit_gather\": 225.49003648757844, \"duration_start_end\": 225.48388123512268, \"diff\": 0.006155252455755544}, {\"duration_submit_gather\": 1327.9300067424774, \"duration_start_end\": 1327.9251885414124, \"diff\": 0.0048182010650634766}, {\"duration_submit_gather\": 1722.8440771102905, \"duration_start_end\": 1722.8380012512207, \"diff\": 0.006075859069824219}, {\"duration_submit_gather\": 126.23991513252258, \"duration_start_end\": 126.23404359817505, \"diff\": 0.00587153434753418}, {\"duration_submit_gather\": 975.9243454933167, \"duration_start_end\": 975.8976068496704, \"diff\": 0.026738643646240234}, {\"duration_submit_gather\": 739.7574133872986, \"duration_start_end\": 739.6018900871277, \"diff\": 0.15552330017089844}, {\"duration_submit_gather\": 592.0047800540924, \"duration_start_end\": 591.9995477199554, \"diff\": 0.005232334136962891}, {\"duration_submit_gather\": 592.1721737384796, \"duration_start_end\": 592.1573872566223, \"diff\": 0.014786481857299805}, {\"duration_submit_gather\": 983.7659811973572, \"duration_start_end\": 983.7604792118073, \"diff\": 0.005501985549926758}, {\"duration_submit_gather\": 294.038428068161, \"duration_start_end\": 294.0323338508606, \"diff\": 0.006094217300415039}, {\"duration_submit_gather\": 142.84926319122314, \"duration_start_end\": 142.84396886825562, \"diff\": 0.005294322967529297}, {\"duration_submit_gather\": 111.9519910812378, \"duration_start_end\": 111.94709968566895, \"diff\": 0.004891395568847656}, {\"duration_submit_gather\": 139.9221134185791, \"duration_start_end\": 139.91675925254822, \"diff\": 0.005354166030883789}, {\"duration_submit_gather\": 757.5329396724701, \"duration_start_end\": 757.5269033908844, \"diff\": 0.006036281585693359}, {\"duration_submit_gather\": 1615.3118672370892, \"duration_start_end\": 1615.1598606109628, \"diff\": 0.1520066261264219}, {\"duration_submit_gather\": 676.8452033996582, \"duration_start_end\": 676.8386523723602, \"diff\": 0.006551027297973633}]}}, {\"mode\": \"vega-lite\"});\n",
       "</script>"
      ],
      "text/plain": [
       "alt.Chart(...)"
      ]
     },
     "execution_count": 26,
     "metadata": {},
     "output_type": "execute_result"
    }
   ],
   "source": [
    "import altair as alt\n",
    "alt.data_transformers.disable_max_rows()\n",
    "\n",
    "\n",
    "alt.Chart(df_new).mark_bar().encode(\n",
    "    alt.X(\"duration_start_end\", bin=True),\n",
    "    y=\"count()\",\n",
    ")"
   ]
  },
  {
   "cell_type": "code",
   "execution_count": null,
   "id": "d00ac6c6",
   "metadata": {},
   "outputs": [],
   "source": []
  },
  {
   "cell_type": "code",
   "execution_count": null,
   "id": "7dcc001f",
   "metadata": {},
   "outputs": [],
   "source": []
  }
 ],
 "metadata": {
  "kernelspec": {
   "display_name": "Python (dh-arm)",
   "language": "python",
   "name": "dh-arm"
  },
  "language_info": {
   "codemirror_mode": {
    "name": "ipython",
    "version": 3
   },
   "file_extension": ".py",
   "mimetype": "text/x-python",
   "name": "python",
   "nbconvert_exporter": "python",
   "pygments_lexer": "ipython3",
   "version": "3.9.13"
  }
 },
 "nbformat": 4,
 "nbformat_minor": 5
}
