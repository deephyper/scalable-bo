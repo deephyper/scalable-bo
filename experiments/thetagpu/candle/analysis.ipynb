{
 "cells": [
  {
   "cell_type": "code",
   "execution_count": 1,
   "metadata": {},
   "outputs": [],
   "source": [
    "import matplotlib.pyplot as plt\n",
    "\n",
    "%matplotlib inline"
   ]
  },
  {
   "cell_type": "code",
   "execution_count": 2,
   "metadata": {},
   "outputs": [],
   "source": [
    "def parse_file(file, metric):\n",
    "    values = []\n",
    "    with open(file, \"r\") as f:\n",
    "        for line in f:\n",
    "            if \"DEBUG:attn:[Epoch\" in line:\n",
    "                res = \" \".join(line.split(\" \")[2:])\n",
    "                res = res.replace(\":\", \"\").replace(\",\", \"\").replace(\"\\n\", \"\").split(\" \")\n",
    "                i = res.index(metric)\n",
    "                val = float(res[i+1])\n",
    "                values.append(val)\n",
    "    return values"
   ]
  },
  {
   "cell_type": "code",
   "execution_count": 3,
   "metadata": {},
   "outputs": [],
   "source": [
    "file = \"candle_baseline_stderr.txt\"\n",
    "metric = \"val_tf_auc\"\n",
    "data = parse_file(file, metric)"
   ]
  },
  {
   "cell_type": "code",
   "execution_count": 7,
   "metadata": {},
   "outputs": [],
   "source": [
    "files = {\n",
    "#     \"Baseline\": \"candle_baseline_stderr.txt\",\n",
    "    \"ADBO\": \"candle_best_DBO_stderr.txt\",\n",
    "    \"HB\": \"candle_best_HB_stderr.txt\"\n",
    "}"
   ]
  },
  {
   "cell_type": "code",
   "execution_count": 8,
   "metadata": {},
   "outputs": [],
   "source": [
    "metric = \"val_tf_auc\"\n",
    "# metric = \"val_acc\"\n",
    "# metric = \"val_loss\"\n",
    "data = {k:parse_file(file, metric) for k, file in files.items()}"
   ]
  },
  {
   "cell_type": "code",
   "execution_count": 9,
   "metadata": {},
   "outputs": [
    {
     "data": {
      "image/png": "[encoded data removed]",
      "text/plain": [
       "<Figure size 432x288 with 1 Axes>"
      ]
     },
     "metadata": {
      "needs_background": "light"
     },
     "output_type": "display_data"
    }
   ],
   "source": [
    "plt.figure()\n",
    "for k, metric in data.items():\n",
    "    x = list(range(len(metric)))\n",
    "    plt.plot(x, metric, label=k)\n",
    "plt.legend()\n",
    "# plt.ylim(0.92)\n",
    "plt.xlim(0, 40)\n",
    "plt.yscale(\"log\")\n",
    "plt.show()"
   ]
  },
  {
   "cell_type": "code",
   "execution_count": null,
   "metadata": {},
   "outputs": [],
   "source": []
  }
 ],
 "metadata": {
  "interpreter": {
   "hash": "8f7aa5824e6ca9d379f74664a810268ab519ecb598367c3fa859d49ffea41aaf"
  },
  "kernelspec": {
   "display_name": "Python 3 (ipykernel)",
   "language": "python",
   "name": "python3"
  },
  "language_info": {
   "codemirror_mode": {
    "name": "ipython",
    "version": 3
   },
   "file_extension": ".py",
   "mimetype": "text/x-python",
   "name": "python",
   "nbconvert_exporter": "python",
   "pygments_lexer": "ipython3",
   "version": "3.9.10"
  }
 },
 "nbformat": 4,
 "nbformat_minor": 2
}
