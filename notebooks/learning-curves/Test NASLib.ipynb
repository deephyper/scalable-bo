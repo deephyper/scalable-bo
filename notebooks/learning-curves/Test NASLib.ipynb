{
 "cells": [
  {
   "cell_type": "code",
   "execution_count": 1,
   "id": "9487c4ef-0cf7-4695-affd-427bcea56f6e",
   "metadata": {},
   "outputs": [
    {
     "name": "stderr",
     "output_type": "stream",
     "text": [
      "/Users/romainegele/miniforge3/envs/dh-arm/lib/python3.9/site-packages/xgboost/compat.py:31: FutureWarning: pandas.Int64Index is deprecated and will be removed from pandas in a future version. Use pandas.Index with the appropriate dtype instead.\n",
      "  from pandas import MultiIndex, Int64Index\n"
     ]
    }
   ],
   "source": [
    "from naslib.search_spaces import (\n",
    "    NasBench301SearchSpace,\n",
    "    SimpleCellSearchSpace,\n",
    "    NasBench201SearchSpace,\n",
    "    HierarchicalSearchSpace,\n",
    ")"
   ]
  },
  {
   "cell_type": "code",
   "execution_count": 2,
   "id": "e1c274b0-3dee-4bb5-83dc-f04c1287ef0e",
   "metadata": {},
   "outputs": [],
   "source": [
    "search_space = SimpleCellSearchSpace()\n",
    "# search_space = graph.NasBench101SearchSpace()\n",
    "# search_space = HierarchicalSearchSpace()\n",
    "# search_space = NasBench301SearchSpace()\n",
    "# search_space = NasBench201SearchSpace()"
   ]
  },
  {
   "cell_type": "code",
   "execution_count": 4,
   "id": "8ea29f2f-3f2d-4121-bb98-8fb1f5577c15",
   "metadata": {},
   "outputs": [
    {
     "data": {
      "text/plain": [
       "['OPTIMIZER_SCOPE',\n",
       " 'QUERYABLE',\n",
       " 'T_destination',\n",
       " '__annotations__',\n",
       " '__call__',\n",
       " '__class__',\n",
       " '__contains__',\n",
       " '__delattr__',\n",
       " '__dict__',\n",
       " '__dir__',\n",
       " '__doc__',\n",
       " '__eq__',\n",
       " '__format__',\n",
       " '__ge__',\n",
       " '__getattr__',\n",
       " '__getattribute__',\n",
       " '__getitem__',\n",
       " '__gt__',\n",
       " '__hash__',\n",
       " '__init__',\n",
       " '__init_subclass__',\n",
       " '__iter__',\n",
       " '__le__',\n",
       " '__len__',\n",
       " '__lt__',\n",
       " '__module__',\n",
       " '__ne__',\n",
       " '__new__',\n",
       " '__reduce__',\n",
       " '__reduce_ex__',\n",
       " '__repr__',\n",
       " '__setattr__',\n",
       " '__setstate__',\n",
       " '__sizeof__',\n",
       " '__slotnames__',\n",
       " '__str__',\n",
       " '__subclasshook__',\n",
       " '__weakref__',\n",
       " '_adj',\n",
       " '_apply',\n",
       " '_assign_x_to_nodes',\n",
       " '_backward_hooks',\n",
       " '_buffers',\n",
       " '_call_impl',\n",
       " '_delete_flagged_edges',\n",
       " '_forward_hooks',\n",
       " '_forward_pre_hooks',\n",
       " '_get_backward_hooks',\n",
       " '_get_child_graphs',\n",
       " '_get_name',\n",
       " '_id',\n",
       " '_is_full_backward_hook',\n",
       " '_load_from_state_dict',\n",
       " '_load_state_dict_post_hooks',\n",
       " '_load_state_dict_pre_hooks',\n",
       " '_maybe_warn_non_full_backward_hook',\n",
       " '_modules',\n",
       " '_named_members',\n",
       " '_node',\n",
       " '_non_persistent_buffers_set',\n",
       " '_parameters',\n",
       " '_pred',\n",
       " '_register_load_state_dict_pre_hook',\n",
       " '_register_state_dict_hook',\n",
       " '_replicate_for_data_parallel',\n",
       " '_save_to_state_dict',\n",
       " '_slow_forward',\n",
       " '_state_dict_hooks',\n",
       " '_succ',\n",
       " '_verify_update_function',\n",
       " '_version',\n",
       " 'add_edge',\n",
       " 'add_edges_densly',\n",
       " 'add_edges_from',\n",
       " 'add_module',\n",
       " 'add_node',\n",
       " 'add_nodes_from',\n",
       " 'add_weighted_edges_from',\n",
       " 'adj',\n",
       " 'adjacency',\n",
       " 'adjlist_inner_dict_factory',\n",
       " 'adjlist_inner_dict_factory',\n",
       " 'adjlist_outer_dict_factory',\n",
       " 'adjlist_outer_dict_factory',\n",
       " 'apply',\n",
       " 'bfloat16',\n",
       " 'buffers',\n",
       " 'children',\n",
       " 'clear',\n",
       " 'clear_edges',\n",
       " 'clone',\n",
       " 'compile',\n",
       " 'copy',\n",
       " 'cpu',\n",
       " 'cuda',\n",
       " 'degree',\n",
       " 'double',\n",
       " 'dump_patches',\n",
       " 'edge_attr_dict_factory',\n",
       " 'edge_attr_dict_factory',\n",
       " 'edge_subgraph',\n",
       " 'edges',\n",
       " 'eval',\n",
       " 'extra_repr',\n",
       " 'float',\n",
       " 'forward',\n",
       " 'get_all_edge_data',\n",
       " 'get_buffer',\n",
       " 'get_dense_edges',\n",
       " 'get_edge_data',\n",
       " 'get_extra_state',\n",
       " 'get_parameter',\n",
       " 'get_submodule',\n",
       " 'graph',\n",
       " 'graph_attr_dict_factory',\n",
       " 'graph_attr_dict_factory',\n",
       " 'half',\n",
       " 'has_edge',\n",
       " 'has_node',\n",
       " 'has_predecessor',\n",
       " 'has_successor',\n",
       " 'in_degree',\n",
       " 'in_edges',\n",
       " 'input_node_idxs',\n",
       " 'ipu',\n",
       " 'is_directed',\n",
       " 'is_multigraph',\n",
       " 'is_parsed',\n",
       " 'load_state_dict',\n",
       " 'modules',\n",
       " 'modules_str',\n",
       " 'mutate',\n",
       " 'name',\n",
       " 'named_buffers',\n",
       " 'named_children',\n",
       " 'named_modules',\n",
       " 'named_parameters',\n",
       " 'nbunch_iter',\n",
       " 'neighbors',\n",
       " 'node_attr_dict_factory',\n",
       " 'node_attr_dict_factory',\n",
       " 'node_dict_factory',\n",
       " 'node_dict_factory',\n",
       " 'nodes',\n",
       " 'nodes',\n",
       " 'num_input_nodes',\n",
       " 'number_of_edges',\n",
       " 'number_of_nodes',\n",
       " 'order',\n",
       " 'out_degree',\n",
       " 'out_edges',\n",
       " 'parameters',\n",
       " 'parse',\n",
       " 'pred',\n",
       " 'predecessors',\n",
       " 'prepare_discretization',\n",
       " 'prepare_evaluation',\n",
       " 'query',\n",
       " 'register_backward_hook',\n",
       " 'register_buffer',\n",
       " 'register_forward_hook',\n",
       " 'register_forward_pre_hook',\n",
       " 'register_full_backward_hook',\n",
       " 'register_load_state_dict_post_hook',\n",
       " 'register_module',\n",
       " 'register_parameter',\n",
       " 'remove_edge',\n",
       " 'remove_edges_from',\n",
       " 'remove_node',\n",
       " 'remove_nodes_from',\n",
       " 'requires_grad_',\n",
       " 'reset_weights',\n",
       " 'reverse',\n",
       " 'sample_random_architecture',\n",
       " 'scope',\n",
       " 'set_at_edges',\n",
       " 'set_extra_state',\n",
       " 'set_input',\n",
       " 'set_load_labeled',\n",
       " 'set_scope',\n",
       " 'share_memory',\n",
       " 'size',\n",
       " 'state_dict',\n",
       " 'subgraph',\n",
       " 'succ',\n",
       " 'successors',\n",
       " 'to',\n",
       " 'to_directed',\n",
       " 'to_directed_class',\n",
       " 'to_empty',\n",
       " 'to_undirected',\n",
       " 'to_undirected_class',\n",
       " 'train',\n",
       " 'training',\n",
       " 'type',\n",
       " 'unparse',\n",
       " 'update',\n",
       " 'update_edges',\n",
       " 'update_nodes',\n",
       " 'xpu',\n",
       " 'zero_grad']"
      ]
     },
     "execution_count": 4,
     "metadata": {},
     "output_type": "execute_result"
    }
   ],
   "source": [
    "dir(search_space)"
   ]
  },
  {
   "cell_type": "code",
   "execution_count": 5,
   "id": "575af654-1b19-4848-85f2-410c491f9295",
   "metadata": {},
   "outputs": [
    {
     "ename": "TypeError",
     "evalue": "sample_random_architecture() missing 1 required positional argument: 'dataset_api'",
     "output_type": "error",
     "traceback": [
      "\u001b[0;31m---------------------------------------------------------------------------\u001b[0m",
      "\u001b[0;31mTypeError\u001b[0m                                 Traceback (most recent call last)",
      "Cell \u001b[0;32mIn [5], line 1\u001b[0m\n\u001b[0;32m----> 1\u001b[0m \u001b[43msearch_space\u001b[49m\u001b[38;5;241;43m.\u001b[39;49m\u001b[43msample_random_architecture\u001b[49m\u001b[43m(\u001b[49m\u001b[43m)\u001b[49m\n",
      "\u001b[0;31mTypeError\u001b[0m: sample_random_architecture() missing 1 required positional argument: 'dataset_api'"
     ]
    }
   ],
   "source": [
    "search_space.sample_random_architecture()"
   ]
  },
  {
   "cell_type": "code",
   "execution_count": 7,
   "id": "5ef69fa0-8a3f-4eb5-89e8-cd9f07619662",
   "metadata": {},
   "outputs": [
    {
     "name": "stdout",
     "output_type": "stream",
     "text": [
      "Downloading models 1.0 from https://ndownloader.figshare.com/files/24992018 to /Users/romainegele/Documents/Argonne/NASLib/naslib/data/models_1.0.zip\n"
     ]
    },
    {
     "name": "stderr",
     "output_type": "stream",
     "text": [
      "1.85GiB [30:19, 1.02MiB/s]\n"
     ]
    },
    {
     "name": "stdout",
     "output_type": "stream",
     "text": [
      "Extracting models_1.0.zip to /Users/romainegele/Documents/Argonne/NASLib/naslib/data/nb_models_1.0\n",
      "Deleting downloaded zip at /Users/romainegele/Documents/Argonne/NASLib/naslib/data/models_1.0.zip\n"
     ]
    },
    {
     "ename": "FileNotFoundError",
     "evalue": "[Errno 2] No such file or directory: '/Users/romainegele/Documents/Argonne/NASLib/naslib/data/nb301_full_training.pickle'",
     "output_type": "error",
     "traceback": [
      "\u001b[0;31m---------------------------------------------------------------------------\u001b[0m",
      "\u001b[0;31mFileNotFoundError\u001b[0m                         Traceback (most recent call last)",
      "Cell \u001b[0;32mIn [7], line 3\u001b[0m\n\u001b[1;32m      1\u001b[0m \u001b[38;5;28;01mfrom\u001b[39;00m \u001b[38;5;21;01mnaslib\u001b[39;00m\u001b[38;5;21;01m.\u001b[39;00m\u001b[38;5;21;01mutils\u001b[39;00m\u001b[38;5;21;01m.\u001b[39;00m\u001b[38;5;21;01mget_dataset_api\u001b[39;00m \u001b[38;5;28;01mimport\u001b[39;00m get_nasbench301_api\n\u001b[0;32m----> 3\u001b[0m api \u001b[38;5;241m=\u001b[39m \u001b[43mget_nasbench301_api\u001b[49m\u001b[43m(\u001b[49m\u001b[43mdataset\u001b[49m\u001b[38;5;241;43m=\u001b[39;49m\u001b[38;5;124;43m\"\u001b[39;49m\u001b[38;5;124;43mcifar10\u001b[39;49m\u001b[38;5;124;43m\"\u001b[39;49m\u001b[43m)\u001b[49m\n",
      "File \u001b[0;32m~/Documents/Argonne/NASLib/naslib/utils/get_dataset_api.py:115\u001b[0m, in \u001b[0;36mget_nasbench301_api\u001b[0;34m(dataset)\u001b[0m\n\u001b[1;32m    112\u001b[0m runtime_model \u001b[38;5;241m=\u001b[39m nasbench301\u001b[38;5;241m.\u001b[39mload_ensemble(nb301_runtime_path)\n\u001b[1;32m    114\u001b[0m nb301_model \u001b[38;5;241m=\u001b[39m [performance_model, runtime_model]\n\u001b[0;32m--> 115\u001b[0m \u001b[38;5;28;01mwith\u001b[39;00m \u001b[38;5;28;43mopen\u001b[39;49m\u001b[43m(\u001b[49m\u001b[43mdata_path\u001b[49m\u001b[43m,\u001b[49m\u001b[43m \u001b[49m\u001b[38;5;124;43m\"\u001b[39;49m\u001b[38;5;124;43mrb\u001b[39;49m\u001b[38;5;124;43m\"\u001b[39;49m\u001b[43m)\u001b[49m \u001b[38;5;28;01mas\u001b[39;00m f:\n\u001b[1;32m    116\u001b[0m     nb301_data \u001b[38;5;241m=\u001b[39m pickle\u001b[38;5;241m.\u001b[39mload(f)\n\u001b[1;32m    117\u001b[0m     nb301_arches \u001b[38;5;241m=\u001b[39m \u001b[38;5;28mlist\u001b[39m(nb301_data\u001b[38;5;241m.\u001b[39mkeys())\n",
      "\u001b[0;31mFileNotFoundError\u001b[0m: [Errno 2] No such file or directory: '/Users/romainegele/Documents/Argonne/NASLib/naslib/data/nb301_full_training.pickle'"
     ]
    }
   ],
   "source": [
    "from naslib.utils.get_dataset_api import get_nasbench301_api\n",
    "\n",
    "api = get_nasbench301_api(dataset=\"cifar10\")"
   ]
  },
  {
   "cell_type": "code",
   "execution_count": null,
   "id": "7e11d816-6755-4028-9bbd-04d4e76d9fa0",
   "metadata": {},
   "outputs": [],
   "source": []
  }
 ],
 "metadata": {
  "kernelspec": {
   "display_name": "Python (dh-arm)",
   "language": "python",
   "name": "dh-arm"
  },
  "language_info": {
   "codemirror_mode": {
    "name": "ipython",
    "version": 3
   },
   "file_extension": ".py",
   "mimetype": "text/x-python",
   "name": "python",
   "nbconvert_exporter": "python",
   "pygments_lexer": "ipython3",
   "version": "3.9.13"
  }
 },
 "nbformat": 4,
 "nbformat_minor": 5
}
