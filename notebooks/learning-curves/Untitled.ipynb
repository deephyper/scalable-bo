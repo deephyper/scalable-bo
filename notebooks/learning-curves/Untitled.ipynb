{
 "cells": [
  {
   "cell_type": "code",
   "execution_count": 1,
   "id": "51bd6fa9-aee2-441b-81c7-844b36fa5baa",
   "metadata": {},
   "outputs": [
    {
     "name": "stderr",
     "output_type": "stream",
     "text": [
      "WARNING:root:Not enough datapoints to form a batch. Use all datapoints in each batch\n"
     ]
    },
    {
     "name": "stdout",
     "output_type": "stream",
     "text": [
      "(10, 3)\n"
     ]
    }
   ],
   "source": [
    "import unittest\n",
    "\n",
    "import numpy as np\n",
    "\n",
    "from pybnn.lcnet import LCNet\n",
    "\n",
    "\n",
    "def toy_example(t, a, b):\n",
    "    return (10 + a * np.log(b * t)) / 10. + 10e-3 * np.random.rand()\n",
    "\n",
    "observed = 20\n",
    "N = 5\n",
    "n_epochs = 10\n",
    "observed_t = int(n_epochs * (observed / 100.))\n",
    "\n",
    "t_idx = np.arange(1, observed_t + 1) / n_epochs\n",
    "t_grid = np.arange(1, n_epochs + 1) / n_epochs\n",
    "\n",
    "configs = np.random.rand(N, 2)\n",
    "learning_curves = [toy_example(t_grid, configs[i, 0], configs[i, 1]) for i in range(N)]\n",
    "\n",
    "X_train = None\n",
    "y_train = None\n",
    "X_test = None\n",
    "y_test = None\n",
    "\n",
    "for i in range(N):\n",
    "\n",
    "    x = np.repeat(configs[i, None, :], t_idx.shape[0], axis=0)\n",
    "    x = np.concatenate((x, t_idx[:, None]), axis=1)\n",
    "\n",
    "    x_test = np.concatenate((configs[i, None, :], np.array([[1]])), axis=1)\n",
    "\n",
    "    lc = learning_curves[i][:observed_t]\n",
    "    lc_test = np.array([learning_curves[i][-1]])\n",
    "\n",
    "    if X_train is None:\n",
    "        X_train = x\n",
    "        y_train = lc\n",
    "        X_test = x_test\n",
    "        y_test = lc_test\n",
    "    else:\n",
    "        X_train = np.concatenate((X_train, x), 0)\n",
    "        y_train = np.concatenate((y_train, lc), 0)\n",
    "        X_test = np.concatenate((X_test, x_test), 0)\n",
    "        y_test = np.concatenate((y_test, lc_test), 0)\n",
    "\n",
    "print(X_train.shape)\n",
    "model = LCNet()\n",
    "\n",
    "model.train(X_train, y_train, num_steps=500, num_burn_in_steps=40, lr=1e-2)\n",
    "\n",
    "m, v = model.predict(X_test)"
   ]
  },
  {
   "cell_type": "code",
   "execution_count": 2,
   "id": "bb1e057f-25b0-4ca7-9fad-c625c2c4fb81",
   "metadata": {},
   "outputs": [
    {
     "data": {
      "text/plain": [
       "(array([1.00368084, 0.95172517, 1.00558677, 0.9649326 , 0.91402031]),\n",
       " array([0.00064833, 0.00065724, 0.00107041, 0.00169112, 0.00637587]))"
      ]
     },
     "execution_count": 2,
     "metadata": {},
     "output_type": "execute_result"
    }
   ],
   "source": [
    "m, v"
   ]
  },
  {
   "cell_type": "code",
   "execution_count": 3,
   "id": "c0e7fb2b-1ba5-4ce9-aeed-283d29d5ac57",
   "metadata": {},
   "outputs": [
    {
     "data": {
      "text/plain": [
       "(10, 3)"
      ]
     },
     "execution_count": 3,
     "metadata": {},
     "output_type": "execute_result"
    }
   ],
   "source": [
    "X_train.shape"
   ]
  },
  {
   "cell_type": "code",
   "execution_count": 4,
   "id": "f06b0962-5d11-42a0-bc50-854674c49f3b",
   "metadata": {},
   "outputs": [
    {
     "data": {
      "text/plain": [
       "array([[0.00908204, 0.88737589, 0.1       ],\n",
       "       [0.00908204, 0.88737589, 0.2       ],\n",
       "       [0.3052814 , 0.67334042, 0.1       ],\n",
       "       [0.3052814 , 0.67334042, 0.2       ],\n",
       "       [0.12137706, 0.10200903, 0.1       ],\n",
       "       [0.12137706, 0.10200903, 0.2       ],\n",
       "       [0.11040586, 0.37598678, 0.1       ],\n",
       "       [0.11040586, 0.37598678, 0.2       ],\n",
       "       [0.62565775, 0.69268801, 0.1       ],\n",
       "       [0.62565775, 0.69268801, 0.2       ]])"
      ]
     },
     "execution_count": 4,
     "metadata": {},
     "output_type": "execute_result"
    }
   ],
   "source": [
    "X_train"
   ]
  },
  {
   "cell_type": "code",
   "execution_count": 5,
   "id": "8accbb1e-b7b2-42d3-bb86-98a141956d90",
   "metadata": {},
   "outputs": [],
   "source": [
    "from pybnn.lc_extrapolation.curvemodels import MLCurveModel"
   ]
  },
  {
   "cell_type": "code",
   "execution_count": null,
   "id": "574b0714-e68f-4f30-aff9-8c2139bf159d",
   "metadata": {},
   "outputs": [],
   "source": []
  }
 ],
 "metadata": {
  "kernelspec": {
   "display_name": "Python (dh-arm)",
   "language": "python",
   "name": "dh-arm"
  },
  "language_info": {
   "codemirror_mode": {
    "name": "ipython",
    "version": 3
   },
   "file_extension": ".py",
   "mimetype": "text/x-python",
   "name": "python",
   "nbconvert_exporter": "python",
   "pygments_lexer": "ipython3",
   "version": "3.9.13"
  }
 },
 "nbformat": 4,
 "nbformat_minor": 5
}
