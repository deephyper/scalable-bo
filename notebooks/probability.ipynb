{
 "cells": [
  {
   "cell_type": "code",
   "execution_count": null,
   "metadata": {},
   "outputs": [],
   "source": [
    "bounds = (-32.768, 32.768)"
   ]
  },
  {
   "cell_type": "code",
   "execution_count": 1,
   "metadata": {},
   "outputs": [],
   "source": [
    "import numpy as np\n",
    "\n",
    "def ackley(x, a=20, b=0.2, c=2*np.pi):\n",
    "    d = len(x)\n",
    "    s1 = np.sum(x ** 2)\n",
    "    s2 = np.sum(np.cos(c * x))\n",
    "    term1 = -a * np.exp(-b * np.sqrt(s1 / d))\n",
    "    term2 = -np.exp(s2 / d)\n",
    "    y = term1 + term2 + a + np.exp(1)\n",
    "    return y"
   ]
  },
  {
   "cell_type": "code",
   "execution_count": 36,
   "metadata": {},
   "outputs": [
    {
     "name": "stdout",
     "output_type": "stream",
     "text": [
      "d=15.652475842498529\n",
      "y=15.068060721167871\n",
      "p_eps=0.213623046875\n",
      "p_d=0.00044487758576571956\n",
      "p_n=0.7423848810726479\n"
     ]
    }
   ],
   "source": [
    "bounds = (-32.768, 32.768)\n",
    "num_dims = 5\n",
    "# eps = 0.32\n",
    "eps = 7\n",
    "n_samples = 3_048\n",
    "# n_samples = 100_000_000_000\n",
    "x = np.ones((num_dims,)) * eps\n",
    "y = ackley(x)\n",
    "d = np.linalg.norm(x)\n",
    "print(f\"{d=}\")\n",
    "print(f\"{y=}\")\n",
    "\n",
    "p_eps = 2 * eps / (bounds[1]-bounds[0])\n",
    "p_d = p_eps**num_dims\n",
    "p_n = 1 - np.power(1-p_d, n_samples)\n",
    "print(f\"{p_eps=}\")\n",
    "print(f\"{p_d=}\")\n",
    "print(f\"{p_n=}\")"
   ]
  },
  {
   "cell_type": "code",
   "execution_count": 37,
   "metadata": {},
   "outputs": [
    {
     "data": {
      "text/plain": [
       "3175.0"
      ]
     },
     "execution_count": 37,
     "metadata": {},
     "output_type": "execute_result"
    }
   ],
   "source": [
    "127*25*60/60"
   ]
  },
  {
   "cell_type": "code",
   "execution_count": null,
   "metadata": {},
   "outputs": [],
   "source": []
  }
 ],
 "metadata": {
  "interpreter": {
   "hash": "8f7aa5824e6ca9d379f74664a810268ab519ecb598367c3fa859d49ffea41aaf"
  },
  "kernelspec": {
   "display_name": "Python 3 (ipykernel)",
   "language": "python",
   "name": "python3"
  },
  "language_info": {
   "codemirror_mode": {
    "name": "ipython",
    "version": 3
   },
   "file_extension": ".py",
   "mimetype": "text/x-python",
   "name": "python",
   "nbconvert_exporter": "python",
   "pygments_lexer": "ipython3",
   "version": "3.9.13"
  }
 },
 "nbformat": 4,
 "nbformat_minor": 2
}
